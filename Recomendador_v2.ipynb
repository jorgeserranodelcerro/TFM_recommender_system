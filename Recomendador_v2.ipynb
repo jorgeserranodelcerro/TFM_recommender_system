{
 "cells": [
  {
   "cell_type": "code",
   "execution_count": 68,
   "metadata": {},
   "outputs": [],
   "source": [
    "%matplotlib inline\n",
    "import matplotlib.pyplot as plt\n",
    "import pandas as pd\n",
    "import numpy as np"
   ]
  },
  {
   "cell_type": "code",
   "execution_count": 51,
   "metadata": {},
   "outputs": [],
   "source": [
    "perfiles = pd.read_csv('Data/uPerfil_Clear.csv')\n",
    "perfiles.drop('Unnamed: 0',axis=1,inplace=True)\n",
    "users=perfiles['userID']\n",
    "perfiles.drop('userID',axis=1,inplace=True)\n",
    "rating = pd.read_csv('Data/rating_final.csv')\n",
    "rInfo=pd.read_csv('Data/rInfo.csv')\n",
    "rInfo.drop('Unnamed: 0',axis=1,inplace=True)\n",
    "array_norm = perfiles.values"
   ]
  },
  {
   "cell_type": "markdown",
   "metadata": {},
   "source": [
    "### Preparación de los datos\n",
    "Vamos a crear un nuevo indice para los restaurantes para que sea incremental. Y creamos una variable de calificación final a partir de las calificaciones."
   ]
  },
  {
   "cell_type": "code",
   "execution_count": 52,
   "metadata": {},
   "outputs": [
    {
     "data": {
      "text/html": [
       "<div>\n",
       "<style scoped>\n",
       "    .dataframe tbody tr th:only-of-type {\n",
       "        vertical-align: middle;\n",
       "    }\n",
       "\n",
       "    .dataframe tbody tr th {\n",
       "        vertical-align: top;\n",
       "    }\n",
       "\n",
       "    .dataframe thead th {\n",
       "        text-align: right;\n",
       "    }\n",
       "</style>\n",
       "<table border=\"1\" class=\"dataframe\">\n",
       "  <thead>\n",
       "    <tr style=\"text-align: right;\">\n",
       "      <th></th>\n",
       "      <th>placeID</th>\n",
       "      <th>name</th>\n",
       "      <th>alcohol</th>\n",
       "      <th>smoking_area</th>\n",
       "      <th>price</th>\n",
       "      <th>dress_code</th>\n",
       "      <th>parking_lot</th>\n",
       "    </tr>\n",
       "  </thead>\n",
       "  <tbody>\n",
       "    <tr>\n",
       "      <th>0</th>\n",
       "      <td>134999</td>\n",
       "      <td>Kiku Cuernavaca</td>\n",
       "      <td>No_Alcohol_Served</td>\n",
       "      <td>none</td>\n",
       "      <td>medium</td>\n",
       "      <td>informal</td>\n",
       "      <td>None</td>\n",
       "    </tr>\n",
       "    <tr>\n",
       "      <th>1</th>\n",
       "      <td>132825</td>\n",
       "      <td>puesto de tacos</td>\n",
       "      <td>No_Alcohol_Served</td>\n",
       "      <td>none</td>\n",
       "      <td>low</td>\n",
       "      <td>informal</td>\n",
       "      <td>None</td>\n",
       "    </tr>\n",
       "    <tr>\n",
       "      <th>2</th>\n",
       "      <td>135106</td>\n",
       "      <td>El Rinc�n de San Francisco</td>\n",
       "      <td>Wine-Beer</td>\n",
       "      <td>only at bar</td>\n",
       "      <td>medium</td>\n",
       "      <td>informal</td>\n",
       "      <td>None</td>\n",
       "    </tr>\n",
       "    <tr>\n",
       "      <th>3</th>\n",
       "      <td>132667</td>\n",
       "      <td>little pizza Emilio Portes Gil</td>\n",
       "      <td>No_Alcohol_Served</td>\n",
       "      <td>none</td>\n",
       "      <td>low</td>\n",
       "      <td>informal</td>\n",
       "      <td>None</td>\n",
       "    </tr>\n",
       "    <tr>\n",
       "      <th>4</th>\n",
       "      <td>132613</td>\n",
       "      <td>carnitas_mata</td>\n",
       "      <td>No_Alcohol_Served</td>\n",
       "      <td>permitted</td>\n",
       "      <td>medium</td>\n",
       "      <td>informal</td>\n",
       "      <td>yes</td>\n",
       "    </tr>\n",
       "  </tbody>\n",
       "</table>\n",
       "</div>"
      ],
      "text/plain": [
       "   placeID                            name            alcohol smoking_area  \\\n",
       "0   134999                 Kiku Cuernavaca  No_Alcohol_Served         none   \n",
       "1   132825                 puesto de tacos  No_Alcohol_Served         none   \n",
       "2   135106      El Rinc�n de San Francisco          Wine-Beer  only at bar   \n",
       "3   132667  little pizza Emilio Portes Gil  No_Alcohol_Served         none   \n",
       "4   132613                   carnitas_mata  No_Alcohol_Served    permitted   \n",
       "\n",
       "    price dress_code parking_lot  \n",
       "0  medium   informal        None  \n",
       "1     low   informal        None  \n",
       "2  medium   informal        None  \n",
       "3     low   informal        None  \n",
       "4  medium   informal         yes  "
      ]
     },
     "execution_count": 52,
     "metadata": {},
     "output_type": "execute_result"
    }
   ],
   "source": [
    "rInfo.head()"
   ]
  },
  {
   "cell_type": "code",
   "execution_count": 53,
   "metadata": {},
   "outputs": [
    {
     "data": {
      "text/html": [
       "<div>\n",
       "<style scoped>\n",
       "    .dataframe tbody tr th:only-of-type {\n",
       "        vertical-align: middle;\n",
       "    }\n",
       "\n",
       "    .dataframe tbody tr th {\n",
       "        vertical-align: top;\n",
       "    }\n",
       "\n",
       "    .dataframe thead th {\n",
       "        text-align: right;\n",
       "    }\n",
       "</style>\n",
       "<table border=\"1\" class=\"dataframe\">\n",
       "  <thead>\n",
       "    <tr style=\"text-align: right;\">\n",
       "      <th></th>\n",
       "      <th>userID</th>\n",
       "      <th>placeID</th>\n",
       "      <th>rating</th>\n",
       "      <th>food_rating</th>\n",
       "      <th>service_rating</th>\n",
       "    </tr>\n",
       "  </thead>\n",
       "  <tbody>\n",
       "    <tr>\n",
       "      <th>0</th>\n",
       "      <td>U1077</td>\n",
       "      <td>135085</td>\n",
       "      <td>2</td>\n",
       "      <td>2</td>\n",
       "      <td>2</td>\n",
       "    </tr>\n",
       "    <tr>\n",
       "      <th>1</th>\n",
       "      <td>U1077</td>\n",
       "      <td>135038</td>\n",
       "      <td>2</td>\n",
       "      <td>2</td>\n",
       "      <td>1</td>\n",
       "    </tr>\n",
       "    <tr>\n",
       "      <th>2</th>\n",
       "      <td>U1077</td>\n",
       "      <td>132825</td>\n",
       "      <td>2</td>\n",
       "      <td>2</td>\n",
       "      <td>2</td>\n",
       "    </tr>\n",
       "    <tr>\n",
       "      <th>3</th>\n",
       "      <td>U1077</td>\n",
       "      <td>135060</td>\n",
       "      <td>1</td>\n",
       "      <td>2</td>\n",
       "      <td>2</td>\n",
       "    </tr>\n",
       "    <tr>\n",
       "      <th>4</th>\n",
       "      <td>U1068</td>\n",
       "      <td>135104</td>\n",
       "      <td>1</td>\n",
       "      <td>1</td>\n",
       "      <td>2</td>\n",
       "    </tr>\n",
       "  </tbody>\n",
       "</table>\n",
       "</div>"
      ],
      "text/plain": [
       "  userID  placeID  rating  food_rating  service_rating\n",
       "0  U1077   135085       2            2               2\n",
       "1  U1077   135038       2            2               1\n",
       "2  U1077   132825       2            2               2\n",
       "3  U1077   135060       1            2               2\n",
       "4  U1068   135104       1            1               2"
      ]
     },
     "execution_count": 53,
     "metadata": {},
     "output_type": "execute_result"
    }
   ],
   "source": [
    "rating.head()"
   ]
  },
  {
   "cell_type": "code",
   "execution_count": 70,
   "metadata": {},
   "outputs": [],
   "source": [
    "restaurantes = rInfo['placeID'].unique()\n",
    "dict_restaurantes = {j:i for i,j in enumerate(restaurantes)}\n",
    "rInfo['placeID'] = rInfo['placeID'].apply(lambda x: dict_restaurantes[x])\n",
    "rating['placeID'] = rating['placeID'].apply(lambda x: dict_restaurantes[x])"
   ]
  },
  {
   "cell_type": "code",
   "execution_count": 55,
   "metadata": {},
   "outputs": [
    {
     "data": {
      "text/html": [
       "<div>\n",
       "<style scoped>\n",
       "    .dataframe tbody tr th:only-of-type {\n",
       "        vertical-align: middle;\n",
       "    }\n",
       "\n",
       "    .dataframe tbody tr th {\n",
       "        vertical-align: top;\n",
       "    }\n",
       "\n",
       "    .dataframe thead th {\n",
       "        text-align: right;\n",
       "    }\n",
       "</style>\n",
       "<table border=\"1\" class=\"dataframe\">\n",
       "  <thead>\n",
       "    <tr style=\"text-align: right;\">\n",
       "      <th></th>\n",
       "      <th>placeID</th>\n",
       "      <th>name</th>\n",
       "      <th>alcohol</th>\n",
       "      <th>smoking_area</th>\n",
       "      <th>price</th>\n",
       "      <th>dress_code</th>\n",
       "      <th>parking_lot</th>\n",
       "    </tr>\n",
       "  </thead>\n",
       "  <tbody>\n",
       "    <tr>\n",
       "      <th>0</th>\n",
       "      <td>0</td>\n",
       "      <td>Kiku Cuernavaca</td>\n",
       "      <td>No_Alcohol_Served</td>\n",
       "      <td>none</td>\n",
       "      <td>medium</td>\n",
       "      <td>informal</td>\n",
       "      <td>None</td>\n",
       "    </tr>\n",
       "    <tr>\n",
       "      <th>1</th>\n",
       "      <td>1</td>\n",
       "      <td>puesto de tacos</td>\n",
       "      <td>No_Alcohol_Served</td>\n",
       "      <td>none</td>\n",
       "      <td>low</td>\n",
       "      <td>informal</td>\n",
       "      <td>None</td>\n",
       "    </tr>\n",
       "    <tr>\n",
       "      <th>2</th>\n",
       "      <td>2</td>\n",
       "      <td>El Rinc�n de San Francisco</td>\n",
       "      <td>Wine-Beer</td>\n",
       "      <td>only at bar</td>\n",
       "      <td>medium</td>\n",
       "      <td>informal</td>\n",
       "      <td>None</td>\n",
       "    </tr>\n",
       "    <tr>\n",
       "      <th>3</th>\n",
       "      <td>3</td>\n",
       "      <td>little pizza Emilio Portes Gil</td>\n",
       "      <td>No_Alcohol_Served</td>\n",
       "      <td>none</td>\n",
       "      <td>low</td>\n",
       "      <td>informal</td>\n",
       "      <td>None</td>\n",
       "    </tr>\n",
       "    <tr>\n",
       "      <th>4</th>\n",
       "      <td>4</td>\n",
       "      <td>carnitas_mata</td>\n",
       "      <td>No_Alcohol_Served</td>\n",
       "      <td>permitted</td>\n",
       "      <td>medium</td>\n",
       "      <td>informal</td>\n",
       "      <td>yes</td>\n",
       "    </tr>\n",
       "  </tbody>\n",
       "</table>\n",
       "</div>"
      ],
      "text/plain": [
       "   placeID                            name            alcohol smoking_area  \\\n",
       "0        0                 Kiku Cuernavaca  No_Alcohol_Served         none   \n",
       "1        1                 puesto de tacos  No_Alcohol_Served         none   \n",
       "2        2      El Rinc�n de San Francisco          Wine-Beer  only at bar   \n",
       "3        3  little pizza Emilio Portes Gil  No_Alcohol_Served         none   \n",
       "4        4                   carnitas_mata  No_Alcohol_Served    permitted   \n",
       "\n",
       "    price dress_code parking_lot  \n",
       "0  medium   informal        None  \n",
       "1     low   informal        None  \n",
       "2  medium   informal        None  \n",
       "3     low   informal        None  \n",
       "4  medium   informal         yes  "
      ]
     },
     "execution_count": 55,
     "metadata": {},
     "output_type": "execute_result"
    }
   ],
   "source": [
    "rInfo.head()"
   ]
  },
  {
   "cell_type": "code",
   "execution_count": 56,
   "metadata": {},
   "outputs": [
    {
     "data": {
      "text/html": [
       "<div>\n",
       "<style scoped>\n",
       "    .dataframe tbody tr th:only-of-type {\n",
       "        vertical-align: middle;\n",
       "    }\n",
       "\n",
       "    .dataframe tbody tr th {\n",
       "        vertical-align: top;\n",
       "    }\n",
       "\n",
       "    .dataframe thead th {\n",
       "        text-align: right;\n",
       "    }\n",
       "</style>\n",
       "<table border=\"1\" class=\"dataframe\">\n",
       "  <thead>\n",
       "    <tr style=\"text-align: right;\">\n",
       "      <th></th>\n",
       "      <th>userID</th>\n",
       "      <th>placeID</th>\n",
       "      <th>rating</th>\n",
       "      <th>food_rating</th>\n",
       "      <th>service_rating</th>\n",
       "    </tr>\n",
       "  </thead>\n",
       "  <tbody>\n",
       "    <tr>\n",
       "      <th>0</th>\n",
       "      <td>U1077</td>\n",
       "      <td>121</td>\n",
       "      <td>2</td>\n",
       "      <td>2</td>\n",
       "      <td>2</td>\n",
       "    </tr>\n",
       "    <tr>\n",
       "      <th>1</th>\n",
       "      <td>U1077</td>\n",
       "      <td>60</td>\n",
       "      <td>2</td>\n",
       "      <td>2</td>\n",
       "      <td>1</td>\n",
       "    </tr>\n",
       "    <tr>\n",
       "      <th>2</th>\n",
       "      <td>U1077</td>\n",
       "      <td>1</td>\n",
       "      <td>2</td>\n",
       "      <td>2</td>\n",
       "      <td>2</td>\n",
       "    </tr>\n",
       "    <tr>\n",
       "      <th>3</th>\n",
       "      <td>U1077</td>\n",
       "      <td>54</td>\n",
       "      <td>1</td>\n",
       "      <td>2</td>\n",
       "      <td>2</td>\n",
       "    </tr>\n",
       "    <tr>\n",
       "      <th>4</th>\n",
       "      <td>U1068</td>\n",
       "      <td>72</td>\n",
       "      <td>1</td>\n",
       "      <td>1</td>\n",
       "      <td>2</td>\n",
       "    </tr>\n",
       "  </tbody>\n",
       "</table>\n",
       "</div>"
      ],
      "text/plain": [
       "  userID  placeID  rating  food_rating  service_rating\n",
       "0  U1077      121       2            2               2\n",
       "1  U1077       60       2            2               1\n",
       "2  U1077        1       2            2               2\n",
       "3  U1077       54       1            2               2\n",
       "4  U1068       72       1            1               2"
      ]
     },
     "execution_count": 56,
     "metadata": {},
     "output_type": "execute_result"
    }
   ],
   "source": [
    "rating.head()"
   ]
  },
  {
   "cell_type": "markdown",
   "metadata": {},
   "source": [
    "Vemos que tenemos 3 califaciones para cada restaurante, vamos a crear una única usando estas tres, dando más peso a la general."
   ]
  },
  {
   "cell_type": "code",
   "execution_count": 57,
   "metadata": {},
   "outputs": [
    {
     "data": {
      "text/html": [
       "<div>\n",
       "<style scoped>\n",
       "    .dataframe tbody tr th:only-of-type {\n",
       "        vertical-align: middle;\n",
       "    }\n",
       "\n",
       "    .dataframe tbody tr th {\n",
       "        vertical-align: top;\n",
       "    }\n",
       "\n",
       "    .dataframe thead th {\n",
       "        text-align: right;\n",
       "    }\n",
       "</style>\n",
       "<table border=\"1\" class=\"dataframe\">\n",
       "  <thead>\n",
       "    <tr style=\"text-align: right;\">\n",
       "      <th></th>\n",
       "      <th>userID</th>\n",
       "      <th>placeID</th>\n",
       "      <th>rating</th>\n",
       "      <th>food_rating</th>\n",
       "      <th>service_rating</th>\n",
       "      <th>rating_final</th>\n",
       "    </tr>\n",
       "  </thead>\n",
       "  <tbody>\n",
       "    <tr>\n",
       "      <th>0</th>\n",
       "      <td>U1077</td>\n",
       "      <td>121</td>\n",
       "      <td>2</td>\n",
       "      <td>2</td>\n",
       "      <td>2</td>\n",
       "      <td>8</td>\n",
       "    </tr>\n",
       "    <tr>\n",
       "      <th>1</th>\n",
       "      <td>U1077</td>\n",
       "      <td>60</td>\n",
       "      <td>2</td>\n",
       "      <td>2</td>\n",
       "      <td>1</td>\n",
       "      <td>7</td>\n",
       "    </tr>\n",
       "    <tr>\n",
       "      <th>2</th>\n",
       "      <td>U1077</td>\n",
       "      <td>1</td>\n",
       "      <td>2</td>\n",
       "      <td>2</td>\n",
       "      <td>2</td>\n",
       "      <td>8</td>\n",
       "    </tr>\n",
       "    <tr>\n",
       "      <th>3</th>\n",
       "      <td>U1077</td>\n",
       "      <td>54</td>\n",
       "      <td>1</td>\n",
       "      <td>2</td>\n",
       "      <td>2</td>\n",
       "      <td>6</td>\n",
       "    </tr>\n",
       "    <tr>\n",
       "      <th>4</th>\n",
       "      <td>U1068</td>\n",
       "      <td>72</td>\n",
       "      <td>1</td>\n",
       "      <td>1</td>\n",
       "      <td>2</td>\n",
       "      <td>5</td>\n",
       "    </tr>\n",
       "  </tbody>\n",
       "</table>\n",
       "</div>"
      ],
      "text/plain": [
       "  userID  placeID  rating  food_rating  service_rating  rating_final\n",
       "0  U1077      121       2            2               2             8\n",
       "1  U1077       60       2            2               1             7\n",
       "2  U1077        1       2            2               2             8\n",
       "3  U1077       54       1            2               2             6\n",
       "4  U1068       72       1            1               2             5"
      ]
     },
     "execution_count": 57,
     "metadata": {},
     "output_type": "execute_result"
    }
   ],
   "source": [
    "rating['rating_final']=2*rating['rating']+rating['food_rating']+rating['service_rating']\n",
    "rating.head()"
   ]
  },
  {
   "cell_type": "code",
   "execution_count": 58,
   "metadata": {
    "scrolled": true
   },
   "outputs": [
    {
     "data": {
      "text/html": [
       "<div>\n",
       "<style scoped>\n",
       "    .dataframe tbody tr th:only-of-type {\n",
       "        vertical-align: middle;\n",
       "    }\n",
       "\n",
       "    .dataframe tbody tr th {\n",
       "        vertical-align: top;\n",
       "    }\n",
       "\n",
       "    .dataframe thead th {\n",
       "        text-align: right;\n",
       "    }\n",
       "</style>\n",
       "<table border=\"1\" class=\"dataframe\">\n",
       "  <thead>\n",
       "    <tr style=\"text-align: right;\">\n",
       "      <th></th>\n",
       "      <th>userID</th>\n",
       "      <th>placeID</th>\n",
       "      <th>rating</th>\n",
       "      <th>food_rating</th>\n",
       "      <th>service_rating</th>\n",
       "      <th>rating_final</th>\n",
       "    </tr>\n",
       "  </thead>\n",
       "  <tbody>\n",
       "    <tr>\n",
       "      <th>0</th>\n",
       "      <td>U1077</td>\n",
       "      <td>121</td>\n",
       "      <td>2</td>\n",
       "      <td>2</td>\n",
       "      <td>2</td>\n",
       "      <td>8</td>\n",
       "    </tr>\n",
       "    <tr>\n",
       "      <th>1</th>\n",
       "      <td>U1077</td>\n",
       "      <td>60</td>\n",
       "      <td>2</td>\n",
       "      <td>2</td>\n",
       "      <td>1</td>\n",
       "      <td>7</td>\n",
       "    </tr>\n",
       "    <tr>\n",
       "      <th>2</th>\n",
       "      <td>U1077</td>\n",
       "      <td>1</td>\n",
       "      <td>2</td>\n",
       "      <td>2</td>\n",
       "      <td>2</td>\n",
       "      <td>8</td>\n",
       "    </tr>\n",
       "    <tr>\n",
       "      <th>3</th>\n",
       "      <td>U1077</td>\n",
       "      <td>54</td>\n",
       "      <td>1</td>\n",
       "      <td>2</td>\n",
       "      <td>2</td>\n",
       "      <td>6</td>\n",
       "    </tr>\n",
       "    <tr>\n",
       "      <th>433</th>\n",
       "      <td>U1077</td>\n",
       "      <td>97</td>\n",
       "      <td>0</td>\n",
       "      <td>1</td>\n",
       "      <td>1</td>\n",
       "      <td>2</td>\n",
       "    </tr>\n",
       "  </tbody>\n",
       "</table>\n",
       "</div>"
      ],
      "text/plain": [
       "    userID  placeID  rating  food_rating  service_rating  rating_final\n",
       "0    U1077      121       2            2               2             8\n",
       "1    U1077       60       2            2               1             7\n",
       "2    U1077        1       2            2               2             8\n",
       "3    U1077       54       1            2               2             6\n",
       "433  U1077       97       0            1               1             2"
      ]
     },
     "execution_count": 58,
     "metadata": {},
     "output_type": "execute_result"
    }
   ],
   "source": [
    "rating[rating['userID']=='U1077']"
   ]
  },
  {
   "cell_type": "markdown",
   "metadata": {},
   "source": [
    "### Creación de la matriz de co-ocurrencia\n",
    "Nos quedamos con los restaurantes que tienen buena puntuación, más de 4. Y creamos la matriz de co-ocurrencia con estos datos. Para ello lo hacemos en dos pasos: \n",
    "* Construimos un diccionario con los restaurantes por usuario.\n",
    "* Creamos la matriz a partir del diccionario del punto anterior."
   ]
  },
  {
   "cell_type": "code",
   "execution_count": 59,
   "metadata": {},
   "outputs": [
    {
     "data": {
      "text/plain": [
       "{'U1001': array([ 1, 34, 63]),\n",
       " 'U1002': array([110, 113,   1,  21,  47,  40,  45]),\n",
       " 'U1003': array([  1, 108,  21,  17,  95,  62, 101,  50,  37, 117,  47]),\n",
       " 'U1004': array([120,   2, 113, 119,  39,  46,  93]),\n",
       " 'U1005': array([ 33,  13,  52,  36,  25, 119]),\n",
       " 'U1006': array([  7,  69,  95, 108,  82,  35,  70]),\n",
       " 'U1007': array([ 36, 116]),\n",
       " 'U1008': array([68, 16]),\n",
       " 'U1009': array([117,  21,  47,  80, 116,  60,  65,  37]),\n",
       " 'U1010': array([25, 13]),\n",
       " 'U1011': array([83]),\n",
       " 'U1012': array([ 48,  22, 100, 112,  58]),\n",
       " 'U1013': array([126,   7, 110, 108,  75]),\n",
       " 'U1014': array([13, 33, 61, 10, 52, 87]),\n",
       " 'U1015': array([ 44, 129]),\n",
       " 'U1016': array([ 80,  25, 119,   2,  18,  28,  54,  52, 121,  65,  21,  63, 113]),\n",
       " 'U1017': array([31]),\n",
       " 'U1018': array([9]),\n",
       " 'U1020': array([ 26, 127]),\n",
       " 'U1021': array([86, 19, 96]),\n",
       " 'U1022': array([ 20, 119,  36,  54,  65,  60,  28,  63, 105, 113,  49]),\n",
       " 'U1023': array([94]),\n",
       " 'U1024': array([ 25, 119,  99,  28]),\n",
       " 'U1025': array([125,  29,  79, 120,  81,  59,  87]),\n",
       " 'U1026': array([123,  76]),\n",
       " 'U1028': array([73,  4]),\n",
       " 'U1029': array([47]),\n",
       " 'U1030': array([ 58, 112]),\n",
       " 'U1032': array([116,  37]),\n",
       " 'U1033': array([120, 121,  42,  28,  75, 110, 108,  35]),\n",
       " 'U1035': array([ 58,  88,  51, 100, 112]),\n",
       " 'U1036': array([ 80,  59,  37,  25, 121,  34,   1,  47,  65, 117,  28]),\n",
       " 'U1037': array([30, 56, 87, 44, 23]),\n",
       " 'U1038': array([16, 84, 21]),\n",
       " 'U1039': array([123,  43,  76]),\n",
       " 'U1040': array([ 24, 128]),\n",
       " 'U1041': array([ 22,  64,  38,  26, 127]),\n",
       " 'U1042': array([ 26, 100, 112,  38]),\n",
       " 'U1043': array([8]),\n",
       " 'U1044': array([115, 124, 112,  26]),\n",
       " 'U1045': array([  1,  18, 121,  65,  54,  63,  40]),\n",
       " 'U1046': array([ 12, 110, 121, 116,  75,  84]),\n",
       " 'U1048': array([ 69,  53,  12, 101,  62]),\n",
       " 'U1051': array([ 26, 100]),\n",
       " 'U1052': array([125,  44]),\n",
       " 'U1053': array([119,  49,  25,  32, 117,  61,  34,  60,  54, 113,  74]),\n",
       " 'U1054': array([113,  54,  99,  65,  18,  63,  34,  40,  60,  28]),\n",
       " 'U1055': array([ 63, 108,  92, 120,  34,   2,  82,  74, 117,   1]),\n",
       " 'U1056': array([ 52,  13,  61, 113,  97, 121,  65,   1,  63]),\n",
       " 'U1058': array([ 13, 102, 116,  32,  90, 113,  55]),\n",
       " 'U1059': array([108,  46,  77, 121,  35,   1, 117]),\n",
       " 'U1060': array([43, 83, 94, 86]),\n",
       " 'U1061': array([  1,  82, 110,  69,  62, 108,  53,  40,  42,  92,  80,  14, 117,\n",
       "         50,  46,  93,  39]),\n",
       " 'U1063': array([109, 118,  72,   3]),\n",
       " 'U1064': array([25, 36, 65]),\n",
       " 'U1065': array([89]),\n",
       " 'U1066': array([ 67, 128,  98,  24]),\n",
       " 'U1067': array([118,   6]),\n",
       " 'U1068': array([72]),\n",
       " 'U1070': array([41]),\n",
       " 'U1071': array([ 21,  49,  65,  54,  25,   1,  18, 119,  99, 120,  34,  35]),\n",
       " 'U1072': array([71, 88]),\n",
       " 'U1074': array([ 67,  91, 107]),\n",
       " 'U1075': array([61, 52, 33, 13, 80, 36, 99]),\n",
       " 'U1076': array([ 99,  60,  25, 105]),\n",
       " 'U1077': array([121,  60,   1,  54]),\n",
       " 'U1078': array([54,  2, 40, 65]),\n",
       " 'U1079': array([112,  26, 114]),\n",
       " 'U1080': array([109,  41]),\n",
       " 'U1081': array([ 13, 120, 121]),\n",
       " 'U1083': array([ 53,  42,  92, 126,  57, 101,  77]),\n",
       " 'U1084': array([ 21, 126,  35,  69,  78,  28,  84, 121]),\n",
       " 'U1085': array([102,  33,  13,  61,  47,  55,   1]),\n",
       " 'U1086': array([121,  95,  17,  28,  40]),\n",
       " 'U1087': array([  3,  72,   6,  86, 106, 111, 122]),\n",
       " 'U1088': array([ 56,  36,  40,  11,   9,  30,  10, 119,  61,  63]),\n",
       " 'U1090': array([ 92, 113,  65,  21,  63,  39, 121,  95,  34,  45]),\n",
       " 'U1091': array([108,   7,  92,  70]),\n",
       " 'U1092': array([34]),\n",
       " 'U1093': array([128, 100,  48, 107,   0,  24,  98]),\n",
       " 'U1095': array([ 90,  53, 116,  62,  14,  55,  78, 126]),\n",
       " 'U1096': array([  7,  34, 126,  55,  69,  46,  62,  93, 108]),\n",
       " 'U1097': array([ 37, 116,  93, 110,  46, 104,  53,  14,  32,  84]),\n",
       " 'U1098': array([ 54,  18, 121,  37, 119,  84,  42,  21, 110]),\n",
       " 'U1099': array([ 80, 102,  90,  54]),\n",
       " 'U1100': array([ 64, 100,  51,  48,  26, 107]),\n",
       " 'U1101': array([ 97, 119,  60,  63,  65]),\n",
       " 'U1102': array([81, 16, 68, 15, 29]),\n",
       " 'U1103': array([118,   4,   3,  94]),\n",
       " 'U1104': array([  1, 121,  35, 113,  80, 119,  34,  74,  20,  40]),\n",
       " 'U1106': array([120, 117,  80,  99,  52, 121, 113,  21,  35,  37,  59]),\n",
       " 'U1107': array([109, 118,  94]),\n",
       " 'U1108': array([108,  92,  57, 121, 119,  62,  42]),\n",
       " 'U1109': array([120,   1, 119,  49,  25, 116, 121,  60]),\n",
       " 'U1110': array([64, 98, 24,  0]),\n",
       " 'U1111': array([66, 79, 16, 23, 56]),\n",
       " 'U1113': array([ 36, 121,  37,  42]),\n",
       " 'U1114': array([101]),\n",
       " 'U1115': array([36,  9, 56, 87, 79]),\n",
       " 'U1116': array([ 74,  60, 121,  65,  34,   1,  35,  80]),\n",
       " 'U1117': array([115,  71,  88]),\n",
       " 'U1119': array([112,  48, 124,  26]),\n",
       " 'U1120': array([28, 36, 81, 29]),\n",
       " 'U1121': array([128,  98,   0]),\n",
       " 'U1122': array([ 52,  12,  90, 116,  80, 117,  37,  60, 121,  35,  32]),\n",
       " 'U1123': array([94, 41, 72,  3,  4]),\n",
       " 'U1125': array([102,  33, 119,  49,  60, 113]),\n",
       " 'U1126': array([36,  2, 65, 40, 30, 56]),\n",
       " 'U1127': array([ 31,  64,  91, 100]),\n",
       " 'U1129': array([27]),\n",
       " 'U1130': array([89]),\n",
       " 'U1131': array([ 30,  44, 125,  23]),\n",
       " 'U1132': array([  1, 121, 113,  34,  65, 120,  97]),\n",
       " 'U1133': array([112,  64,  48,  38]),\n",
       " 'U1134': array([  1,  47,  12,  42, 121,  37,  55, 117, 108,  59,  57]),\n",
       " 'U1136': array([ 57,  21, 110,  55,  93,  82,  42, 120]),\n",
       " 'U1137': array([ 75, 121,  80,  21,  47, 113,   1,  62, 101,  25,  70, 104, 108]),\n",
       " 'U1138': array([110,  95,  45])}"
      ]
     },
     "execution_count": 59,
     "metadata": {},
     "output_type": "execute_result"
    }
   ],
   "source": [
    "dict_rest_user=rating[rating['rating_final']>4].groupby('userID')['placeID'].apply(np.array).to_dict()\n",
    "dict_rest_user"
   ]
  },
  {
   "cell_type": "code",
   "execution_count": 72,
   "metadata": {},
   "outputs": [
    {
     "data": {
      "text/plain": [
       "130"
      ]
     },
     "execution_count": 72,
     "metadata": {},
     "output_type": "execute_result"
    }
   ],
   "source": [
    "len(dict_restaurantes)"
   ]
  },
  {
   "cell_type": "code",
   "execution_count": 73,
   "metadata": {},
   "outputs": [],
   "source": [
    "coMatrix = np.zeros((len(dict_restaurantes), len(dict_restaurantes)))\n",
    "for user,restaurant in dict_rest_user.items():\n",
    "    for m in restaurant:\n",
    "        coMatrix[m, restaurant] += 1"
   ]
  },
  {
   "cell_type": "code",
   "execution_count": 74,
   "metadata": {},
   "outputs": [
    {
     "data": {
      "text/plain": [
       "array([[ 3.,  0.,  0., ...,  0.,  2.,  0.],\n",
       "       [ 0., 18.,  1., ...,  0.,  0.,  0.],\n",
       "       [ 0.,  1.,  5., ...,  0.,  0.,  0.],\n",
       "       ...,\n",
       "       [ 0.,  0.,  0., ...,  2.,  0.,  0.],\n",
       "       [ 2.,  0.,  0., ...,  0.,  4.,  0.],\n",
       "       [ 0.,  0.,  0., ...,  0.,  0.,  1.]])"
      ]
     },
     "execution_count": 74,
     "metadata": {},
     "output_type": "execute_result"
    }
   ],
   "source": [
    "coMatrix"
   ]
  },
  {
   "cell_type": "code",
   "execution_count": 69,
   "metadata": {},
   "outputs": [
    {
     "data": {
      "image/png": "[encoded data removed]",
      "text/plain": [
       "<Figure size 1332x756 with 1 Axes>"
      ]
     },
     "metadata": {},
     "output_type": "display_data"
    }
   ],
   "source": [
    "plt.matshow(coMatrix, fignum=1000, cmap=plt.cm.binary)\n",
    "plt.gcf().set_size_inches(18.5, 10.5)\n",
    "plt.show()"
   ]
  },
  {
   "cell_type": "markdown",
   "metadata": {},
   "source": [
    "### Recomendación usando la matriz de co-ocurrencia\n",
    "\n",
    "* Definimos una función para buscar los K-restaurantes con mayor similitud.\n",
    "* Usando los K-restaurantes del punto anterior hacemos la recomendación para el usuario."
   ]
  },
  {
   "cell_type": "code",
   "execution_count": 75,
   "metadata": {},
   "outputs": [],
   "source": [
    "def similitud(item_id, coocurrencia, ktop=10):\n",
    "    # Nos quedamos con la fila con el Id de la pelicula que le pasamos.\n",
    "    similarItems = coocurrencia[item_id, :]\n",
    "    # Ordenamos y devolvemos el id de los items más similares.\n",
    "    mostSimilar = np.argsort(similarItems)[::-1]\n",
    "    # Quitamos el primer item ya que es sí mismo.\n",
    "    mostSimilar = mostSimilar[1:ktop+1]\n",
    "    \n",
    "    # Devolvemos un array de numpy\n",
    "    return np.stack((mostSimilar, similarItems[mostSimilar])).T"
   ]
  },
  {
   "cell_type": "code",
   "execution_count": 76,
   "metadata": {},
   "outputs": [
    {
     "data": {
      "text/plain": [
       "array([[ 98.,   3.],\n",
       "       [ 24.,   2.],\n",
       "       [128.,   2.],\n",
       "       [107.,   1.],\n",
       "       [ 48.,   1.]])"
      ]
     },
     "execution_count": 76,
     "metadata": {},
     "output_type": "execute_result"
    }
   ],
   "source": [
    "similitud(0, coMatrix, 5)"
   ]
  },
  {
   "cell_type": "code",
   "execution_count": 78,
   "metadata": {},
   "outputs": [],
   "source": [
    "def recomendacion(items_id, coocurrencia, ktop=10):\n",
    "    # Para la lista de items que le pasamos usamos la funcion que hemos definido anteriormente para buscar los mas similares\n",
    "    list_sim_items = np.vstack([similitud(id_, coocurrencia, ktop) for id_ in items_id])\n",
    "    # Agrupamos y nos quedamos con aquellos items que más aparecen\n",
    "    largest_freq = pd.DataFrame(list_sim_items, columns=['id', 'freq']).groupby('id').agg(max).reset_index()\n",
    "    \n",
    "    # Ordenamos\n",
    "    sorted_list = largest_freq.sort_values(by='freq', ascending=False)\n",
    "    \n",
    "    # Nos quedamos con los primeros valores\n",
    "    out = sorted_list.values[:ktop, 0]\n",
    "    return out\n",
    "    "
   ]
  },
  {
   "cell_type": "markdown",
   "metadata": {},
   "source": [
    "Usamos esta función para hacer las recomendaciones. Para ello creamos un DataFrame con los usuarios y sus restaurantes."
   ]
  },
  {
   "cell_type": "code",
   "execution_count": 86,
   "metadata": {},
   "outputs": [
    {
     "data": {
      "text/html": [
       "<div>\n",
       "<style scoped>\n",
       "    .dataframe tbody tr th:only-of-type {\n",
       "        vertical-align: middle;\n",
       "    }\n",
       "\n",
       "    .dataframe tbody tr th {\n",
       "        vertical-align: top;\n",
       "    }\n",
       "\n",
       "    .dataframe thead th {\n",
       "        text-align: right;\n",
       "    }\n",
       "</style>\n",
       "<table border=\"1\" class=\"dataframe\">\n",
       "  <thead>\n",
       "    <tr style=\"text-align: right;\">\n",
       "      <th></th>\n",
       "      <th>userID</th>\n",
       "      <th>placeID</th>\n",
       "    </tr>\n",
       "  </thead>\n",
       "  <tbody>\n",
       "    <tr>\n",
       "      <th>0</th>\n",
       "      <td>U1001</td>\n",
       "      <td>[87, 1, 121, 5, 99, 28, 20, 34, 63]</td>\n",
       "    </tr>\n",
       "    <tr>\n",
       "      <th>1</th>\n",
       "      <td>U1002</td>\n",
       "      <td>[110, 113, 2, 1, 65, 21, 47, 40, 45, 121]</td>\n",
       "    </tr>\n",
       "    <tr>\n",
       "      <th>2</th>\n",
       "      <td>U1003</td>\n",
       "      <td>[59, 1, 108, 21, 40, 17, 95, 62, 101, 50, 37, ...</td>\n",
       "    </tr>\n",
       "    <tr>\n",
       "      <th>3</th>\n",
       "      <td>U1004</td>\n",
       "      <td>[54, 120, 2, 113, 119, 39, 46, 93]</td>\n",
       "    </tr>\n",
       "    <tr>\n",
       "      <th>4</th>\n",
       "      <td>U1005</td>\n",
       "      <td>[33, 13, 87, 52, 40, 36, 102, 25, 119]</td>\n",
       "    </tr>\n",
       "  </tbody>\n",
       "</table>\n",
       "</div>"
      ],
      "text/plain": [
       "  userID                                            placeID\n",
       "0  U1001                [87, 1, 121, 5, 99, 28, 20, 34, 63]\n",
       "1  U1002          [110, 113, 2, 1, 65, 21, 47, 40, 45, 121]\n",
       "2  U1003  [59, 1, 108, 21, 40, 17, 95, 62, 101, 50, 37, ...\n",
       "3  U1004                 [54, 120, 2, 113, 119, 39, 46, 93]\n",
       "4  U1005             [33, 13, 87, 52, 40, 36, 102, 25, 119]"
      ]
     },
     "execution_count": 86,
     "metadata": {},
     "output_type": "execute_result"
    }
   ],
   "source": [
    "df_user_rest=rating.groupby('userID')['placeID'].apply(list).reset_index().sort_index()\n",
    "df_user_rest.head()"
   ]
  },
  {
   "cell_type": "code",
   "execution_count": 97,
   "metadata": {
    "scrolled": false
   },
   "outputs": [
    {
     "data": {
      "text/html": [
       "<div>\n",
       "<style scoped>\n",
       "    .dataframe tbody tr th:only-of-type {\n",
       "        vertical-align: middle;\n",
       "    }\n",
       "\n",
       "    .dataframe tbody tr th {\n",
       "        vertical-align: top;\n",
       "    }\n",
       "\n",
       "    .dataframe thead th {\n",
       "        text-align: right;\n",
       "    }\n",
       "</style>\n",
       "<table border=\"1\" class=\"dataframe\">\n",
       "  <thead>\n",
       "    <tr style=\"text-align: right;\">\n",
       "      <th></th>\n",
       "      <th>userID</th>\n",
       "      <th>placeID</th>\n",
       "      <th>placeRM</th>\n",
       "    </tr>\n",
       "  </thead>\n",
       "  <tbody>\n",
       "    <tr>\n",
       "      <th>0</th>\n",
       "      <td>U1001</td>\n",
       "      <td>[87, 1, 121, 5, 99, 28, 20, 34, 63]</td>\n",
       "      <td>[121.0, 1.0, 65.0, 80.0, 113.0, 35.0, 34.0, 10...</td>\n",
       "    </tr>\n",
       "    <tr>\n",
       "      <th>1</th>\n",
       "      <td>U1002</td>\n",
       "      <td>[110, 113, 2, 1, 65, 21, 47, 40, 45, 121]</td>\n",
       "      <td>[1.0, 121.0, 65.0, 113.0, 35.0, 34.0, 80.0, 63...</td>\n",
       "    </tr>\n",
       "    <tr>\n",
       "      <th>2</th>\n",
       "      <td>U1003</td>\n",
       "      <td>[59, 1, 108, 21, 40, 17, 95, 62, 101, 50, 37, ...</td>\n",
       "      <td>[121.0, 34.0, 65.0, 1.0, 108.0, 37.0, 117.0, 4...</td>\n",
       "    </tr>\n",
       "    <tr>\n",
       "      <th>3</th>\n",
       "      <td>U1004</td>\n",
       "      <td>[54, 120, 2, 113, 119, 39, 46, 93]</td>\n",
       "      <td>[121.0, 65.0, 113.0, 25.0, 119.0, 21.0, 60.0, ...</td>\n",
       "    </tr>\n",
       "    <tr>\n",
       "      <th>4</th>\n",
       "      <td>U1005</td>\n",
       "      <td>[33, 13, 87, 52, 40, 36, 102, 25, 119]</td>\n",
       "      <td>[113.0, 25.0, 119.0, 54.0, 49.0, 60.0, 121.0, ...</td>\n",
       "    </tr>\n",
       "  </tbody>\n",
       "</table>\n",
       "</div>"
      ],
      "text/plain": [
       "  userID                                            placeID  \\\n",
       "0  U1001                [87, 1, 121, 5, 99, 28, 20, 34, 63]   \n",
       "1  U1002          [110, 113, 2, 1, 65, 21, 47, 40, 45, 121]   \n",
       "2  U1003  [59, 1, 108, 21, 40, 17, 95, 62, 101, 50, 37, ...   \n",
       "3  U1004                 [54, 120, 2, 113, 119, 39, 46, 93]   \n",
       "4  U1005             [33, 13, 87, 52, 40, 36, 102, 25, 119]   \n",
       "\n",
       "                                             placeRM  \n",
       "0  [121.0, 1.0, 65.0, 80.0, 113.0, 35.0, 34.0, 10...  \n",
       "1  [1.0, 121.0, 65.0, 113.0, 35.0, 34.0, 80.0, 63...  \n",
       "2  [121.0, 34.0, 65.0, 1.0, 108.0, 37.0, 117.0, 4...  \n",
       "3  [121.0, 65.0, 113.0, 25.0, 119.0, 21.0, 60.0, ...  \n",
       "4  [113.0, 25.0, 119.0, 54.0, 49.0, 60.0, 121.0, ...  "
      ]
     },
     "execution_count": 97,
     "metadata": {},
     "output_type": "execute_result"
    }
   ],
   "source": [
    "df_user_rest ['placeRM'] = df_user_rest['placeID'].apply(lambda x: recomendacion(x, coMatrix, len(restaurantes)))\n",
    "df_user_rest.head()"
   ]
  },
  {
   "cell_type": "markdown",
   "metadata": {},
   "source": [
    "### Evaluación del modelo\n",
    "\n",
    "Para evaluar el sistema recomendador vamos a utilizar dos métricas (Recall at N y Mean Average Precision). Para ello nos basamos en los conceptos de Precision y Recall. Por un lado la Precision es la fracción de los elementos recomendados que son relevantes para el usuario, mientras que Recall es la fracción de elementos relevantes que son recomendados."
   ]
  },
  {
   "cell_type": "markdown",
   "metadata": {},
   "source": [
    "Empezamos con recall at N. Que es el Recall hasta un N dado para un usuario y hacemos la media de todos los usuarios. Esto lo calculamos con la fórmula:\n",
    "### $$\\mathrm{recall}@N = \\frac{\\sum_{i=1}^N rel_i}{\\mathrm{min}(N, \\sum_{i\\in \\mathcal{I}_u} 1})$$"
   ]
  },
  {
   "cell_type": "code",
   "execution_count": 110,
   "metadata": {},
   "outputs": [],
   "source": [
    "def recall_user(N, test, recommended):\n",
    "    intersection = len(set(test) & set(recommended[:N]))\n",
    "    return intersection / float(np.minimum(N, len(test)))"
   ]
  },
  {
   "cell_type": "code",
   "execution_count": 123,
   "metadata": {},
   "outputs": [
    {
     "name": "stdout",
     "output_type": "stream",
     "text": [
      "recall@3=0.389\n",
      "recall@5=0.399\n",
      "recall@10=0.480\n",
      "recall@15=0.616\n",
      "recall@25=0.784\n",
      "recall@50=0.932\n"
     ]
    }
   ],
   "source": [
    "topk = [3, 5, 10, 15, 25, 50]\n",
    "for k in topk:\n",
    "    list_recall_user=[]\n",
    "    for a in df_user_rest.index:\n",
    "        list_recall_user.append(recall_user(k, df_user_rest['placeID'][a], df_user_rest['placeRM'][a]))\n",
    "    print(\"recall@%s=%.3f\" %(k, np.mean(list_recall_user)))"
   ]
  },
  {
   "cell_type": "markdown",
   "metadata": {},
   "source": [
    "Ahora realizamos la evaluación según Mean Averaged Precision (MAP). Este métrica es la media de Average Precision (AP) que es el promedio de los valores de precisión sobre todo los rangos donde se encuentran items relevantes. La fórmula de AP es:\n",
    "\n",
    "### $$\\mathrm{AP}@N = \\frac{\\sum_{k=1}^N \\left(\\sum_{i=1}^k rel(i)\\right)/k \\times rel(k)}{\\mathrm{min}(N, \\sum_{i\\in \\mathcal{I}_u} 1)}$$"
   ]
  },
  {
   "cell_type": "code",
   "execution_count": 129,
   "metadata": {},
   "outputs": [],
   "source": [
    "def apk(N, test, recommended):\n",
    "    predicted = recommended[:N] # top-k predictions\n",
    "    \n",
    "    score = 0.0 # This will store the numerator\n",
    "    num_hits = 0.0 # This will store the sum of rel(i)\n",
    "\n",
    "    for i,p in enumerate(predicted):\n",
    "        if p in test and p not in predicted[:i]:\n",
    "            num_hits += 1.0\n",
    "            score += num_hits/(i+1.0)\n",
    "\n",
    "    return score / min(len(test), N)"
   ]
  },
  {
   "cell_type": "code",
   "execution_count": 132,
   "metadata": {},
   "outputs": [
    {
     "name": "stdout",
     "output_type": "stream",
     "text": [
      "MAP@3=0.308\n",
      "MAP@5=0.276\n",
      "MAP@10=0.284\n",
      "MAP@15=0.328\n",
      "MAP@25=0.382\n",
      "MAP@50=0.418\n"
     ]
    }
   ],
   "source": [
    "topk = [3, 5, 10, 15, 25, 50]\n",
    "for k in topk:\n",
    "    list_apk_user=[]\n",
    "    for a in df_user_rest.index:\n",
    "        list_apk_user.append(apk(k, df_user_rest['placeID'][a], df_user_rest['placeRM'][a]))\n",
    "    print(\"MAP@%s=%.3f\" %(k, np.mean(list_apk_user)))"
   ]
  }
 ],
 "metadata": {
  "kernelspec": {
   "display_name": "Python 3",
   "language": "python",
   "name": "python3"
  },
  "language_info": {
   "codemirror_mode": {
    "name": "ipython",
    "version": 3
   },
   "file_extension": ".py",
   "mimetype": "text/x-python",
   "name": "python",
   "nbconvert_exporter": "python",
   "pygments_lexer": "ipython3",
   "version": "3.6.4"
  }
 },
 "nbformat": 4,
 "nbformat_minor": 2
}
