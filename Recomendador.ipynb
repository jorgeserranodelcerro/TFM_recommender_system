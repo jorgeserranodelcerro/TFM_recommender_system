{
 "cells": [
  {
   "cell_type": "code",
   "execution_count": 23,
   "metadata": {},
   "outputs": [],
   "source": [
    "import pandas as pd\n",
    "from scipy.spatial import distance"
   ]
  },
  {
   "cell_type": "code",
   "execution_count": 24,
   "metadata": {},
   "outputs": [],
   "source": [
    "perfiles = pd.read_csv('Data/uPerfil_Clear.csv')\n",
    "perfiles.drop('Unnamed: 0',axis=1,inplace=True)\n",
    "users=perfiles['userID']\n",
    "perfiles.drop('userID',axis=1,inplace=True)\n",
    "rating = pd.read_csv('Data/rating_final.csv')\n",
    "rInfo=pd.read_csv('Data/rInfo.csv')"
   ]
  },
  {
   "cell_type": "code",
   "execution_count": 25,
   "metadata": {},
   "outputs": [],
   "source": [
    "array_norm = perfiles.values"
   ]
  },
  {
   "cell_type": "code",
   "execution_count": 26,
   "metadata": {},
   "outputs": [],
   "source": [
    "def recomienda_10(_list):\n",
    "    distancias = []\n",
    "\n",
    "    for i in range(len(perfiles)):\n",
    "        distancias.append(10-distance.euclidean(_list, array_norm[i]))\n",
    "       \n",
    "    df_dist = pd.DataFrame({'userID':users, 'dist':distancias})\n",
    "    \n",
    "    top20Users=df_dist.sort_values('dist', ascending=False).head(10)\n",
    "    \n",
    "    ratingtop20=pd.merge(top20Users,rating, how='inner', on='userID')\n",
    "    \n",
    "    ratingtop20['rating_final']=2*ratingtop20['dist']*ratingtop20['rating']+ratingtop20['dist']*ratingtop20['food_rating']+ratingtop20['dist']*ratingtop20['service_rating']\n",
    "    rating_final=ratingtop20[['placeID','rating_final']]\n",
    "    rTop5=rating_final.sort_values('rating_final', ascending=False).head(5)\n",
    "    salida=pd.merge(rTop5,rInfo,how='inner',on='placeID')\n",
    "    return salida[['name','alcohol','smoking_area','price','dress_code','parking_lot']]"
   ]
  },
  {
   "cell_type": "code",
   "execution_count": 27,
   "metadata": {},
   "outputs": [],
   "source": [
    "a=recomienda_10([1,0,0,0,1])"
   ]
  },
  {
   "cell_type": "code",
   "execution_count": 28,
   "metadata": {},
   "outputs": [
    {
     "data": {
      "text/html": [
       "<div>\n",
       "<style scoped>\n",
       "    .dataframe tbody tr th:only-of-type {\n",
       "        vertical-align: middle;\n",
       "    }\n",
       "\n",
       "    .dataframe tbody tr th {\n",
       "        vertical-align: top;\n",
       "    }\n",
       "\n",
       "    .dataframe thead th {\n",
       "        text-align: right;\n",
       "    }\n",
       "</style>\n",
       "<table border=\"1\" class=\"dataframe\">\n",
       "  <thead>\n",
       "    <tr style=\"text-align: right;\">\n",
       "      <th></th>\n",
       "      <th>name</th>\n",
       "      <th>alcohol</th>\n",
       "      <th>smoking_area</th>\n",
       "      <th>price</th>\n",
       "      <th>dress_code</th>\n",
       "      <th>parking_lot</th>\n",
       "    </tr>\n",
       "  </thead>\n",
       "  <tbody>\n",
       "    <tr>\n",
       "      <th>0</th>\n",
       "      <td>Restaurante la Estrella de Dima</td>\n",
       "      <td>Wine-Beer</td>\n",
       "      <td>none</td>\n",
       "      <td>high</td>\n",
       "      <td>informal</td>\n",
       "      <td>yes</td>\n",
       "    </tr>\n",
       "    <tr>\n",
       "      <th>1</th>\n",
       "      <td>Restaurante El Chivero S.A. de C.V.</td>\n",
       "      <td>No_Alcohol_Served</td>\n",
       "      <td>none</td>\n",
       "      <td>high</td>\n",
       "      <td>informal</td>\n",
       "      <td>yes</td>\n",
       "    </tr>\n",
       "    <tr>\n",
       "      <th>2</th>\n",
       "      <td>Koye Sushi</td>\n",
       "      <td>No_Alcohol_Served</td>\n",
       "      <td>none</td>\n",
       "      <td>high</td>\n",
       "      <td>informal</td>\n",
       "      <td>None</td>\n",
       "    </tr>\n",
       "    <tr>\n",
       "      <th>3</th>\n",
       "      <td>La Posada del Virrey</td>\n",
       "      <td>Wine-Beer</td>\n",
       "      <td>none</td>\n",
       "      <td>high</td>\n",
       "      <td>casual</td>\n",
       "      <td>other</td>\n",
       "    </tr>\n",
       "    <tr>\n",
       "      <th>4</th>\n",
       "      <td>Tortas Locas Hipocampo</td>\n",
       "      <td>No_Alcohol_Served</td>\n",
       "      <td>not permitted</td>\n",
       "      <td>medium</td>\n",
       "      <td>informal</td>\n",
       "      <td>other</td>\n",
       "    </tr>\n",
       "  </tbody>\n",
       "</table>\n",
       "</div>"
      ],
      "text/plain": [
       "                                  name            alcohol   smoking_area  \\\n",
       "0      Restaurante la Estrella de Dima          Wine-Beer           none   \n",
       "1  Restaurante El Chivero S.A. de C.V.  No_Alcohol_Served           none   \n",
       "2                           Koye Sushi  No_Alcohol_Served           none   \n",
       "3                 La Posada del Virrey          Wine-Beer           none   \n",
       "4               Tortas Locas Hipocampo  No_Alcohol_Served  not permitted   \n",
       "\n",
       "    price dress_code parking_lot  \n",
       "0    high   informal         yes  \n",
       "1    high   informal         yes  \n",
       "2    high   informal        None  \n",
       "3    high     casual       other  \n",
       "4  medium   informal       other  "
      ]
     },
     "execution_count": 28,
     "metadata": {},
     "output_type": "execute_result"
    }
   ],
   "source": [
    "a"
   ]
  },
  {
   "cell_type": "code",
   "execution_count": null,
   "metadata": {},
   "outputs": [],
   "source": []
  }
 ],
 "metadata": {
  "kernelspec": {
   "display_name": "Python 3",
   "language": "python",
   "name": "python3"
  },
  "language_info": {
   "codemirror_mode": {
    "name": "ipython",
    "version": 3
   },
   "file_extension": ".py",
   "mimetype": "text/x-python",
   "name": "python",
   "nbconvert_exporter": "python",
   "pygments_lexer": "ipython3",
   "version": "3.6.4"
  }
 },
 "nbformat": 4,
 "nbformat_minor": 2
}
